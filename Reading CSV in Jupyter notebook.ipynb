{
 "cells": [
  {
   "cell_type": "code",
   "execution_count": 1,
   "id": "80a74a90",
   "metadata": {},
   "outputs": [],
   "source": [
    "df = read.csv(\"car.csv\")"
   ]
  },
  {
   "cell_type": "code",
   "execution_count": 2,
   "id": "2c5efdd3",
   "metadata": {},
   "outputs": [
    {
     "data": {
      "text/html": [
       "<table>\n",
       "<thead><tr><th scope=col>Speed</th><th scope=col>Car_Age</th><th scope=col>Experience</th><th scope=col>Risk</th></tr></thead>\n",
       "<tbody>\n",
       "\t<tr><td>200</td><td>15 </td><td> 5 </td><td>85 </td></tr>\n",
       "\t<tr><td> 90</td><td>17 </td><td>13 </td><td>20 </td></tr>\n",
       "\t<tr><td>165</td><td>12 </td><td> 4 </td><td>93 </td></tr>\n",
       "\t<tr><td>110</td><td>20 </td><td>NA </td><td>60 </td></tr>\n",
       "\t<tr><td>140</td><td> 5 </td><td> 3 </td><td>82 </td></tr>\n",
       "\t<tr><td>115</td><td> 2 </td><td> 8 </td><td>10 </td></tr>\n",
       "</tbody>\n",
       "</table>\n"
      ],
      "text/latex": [
       "\\begin{tabular}{r|llll}\n",
       " Speed & Car\\_Age & Experience & Risk\\\\\n",
       "\\hline\n",
       "\t 200 & 15  &  5  & 85 \\\\\n",
       "\t  90 & 17  & 13  & 20 \\\\\n",
       "\t 165 & 12  &  4  & 93 \\\\\n",
       "\t 110 & 20  & NA  & 60 \\\\\n",
       "\t 140 &  5  &  3  & 82 \\\\\n",
       "\t 115 &  2  &  8  & 10 \\\\\n",
       "\\end{tabular}\n"
      ],
      "text/markdown": [
       "\n",
       "| Speed | Car_Age | Experience | Risk |\n",
       "|---|---|---|---|\n",
       "| 200 | 15  |  5  | 85  |\n",
       "|  90 | 17  | 13  | 20  |\n",
       "| 165 | 12  |  4  | 93  |\n",
       "| 110 | 20  | NA  | 60  |\n",
       "| 140 |  5  |  3  | 82  |\n",
       "| 115 |  2  |  8  | 10  |\n",
       "\n"
      ],
      "text/plain": [
       "  Speed Car_Age Experience Risk\n",
       "1 200   15       5         85  \n",
       "2  90   17      13         20  \n",
       "3 165   12       4         93  \n",
       "4 110   20      NA         60  \n",
       "5 140    5       3         82  \n",
       "6 115    2       8         10  "
      ]
     },
     "metadata": {},
     "output_type": "display_data"
    }
   ],
   "source": [
    "df"
   ]
  },
  {
   "cell_type": "code",
   "execution_count": 3,
   "id": "06003ff6",
   "metadata": {},
   "outputs": [
    {
     "data": {
      "text/html": [
       "6"
      ],
      "text/latex": [
       "6"
      ],
      "text/markdown": [
       "6"
      ],
      "text/plain": [
       "[1] 6"
      ]
     },
     "metadata": {},
     "output_type": "display_data"
    }
   ],
   "source": [
    "nrow(df)"
   ]
  },
  {
   "cell_type": "code",
   "execution_count": 4,
   "id": "511058c3",
   "metadata": {},
   "outputs": [
    {
     "data": {
      "text/html": [
       "4"
      ],
      "text/latex": [
       "4"
      ],
      "text/markdown": [
       "4"
      ],
      "text/plain": [
       "[1] 4"
      ]
     },
     "metadata": {},
     "output_type": "display_data"
    }
   ],
   "source": [
    "ncol(df)"
   ]
  },
  {
   "cell_type": "code",
   "execution_count": 7,
   "id": "476fdc91",
   "metadata": {},
   "outputs": [
    {
     "data": {
      "text/html": [
       "20"
      ],
      "text/latex": [
       "20"
      ],
      "text/markdown": [
       "20"
      ],
      "text/plain": [
       "[1] 20"
      ]
     },
     "metadata": {},
     "output_type": "display_data"
    }
   ],
   "source": [
    "max(df$Car_Age\t)"
   ]
  },
  {
   "cell_type": "code",
   "execution_count": 8,
   "id": "f7dac345",
   "metadata": {},
   "outputs": [
    {
     "data": {
      "text/html": [
       "2"
      ],
      "text/latex": [
       "2"
      ],
      "text/markdown": [
       "2"
      ],
      "text/plain": [
       "[1] 2"
      ]
     },
     "metadata": {},
     "output_type": "display_data"
    }
   ],
   "source": [
    "min(df$Car_Age\t)"
   ]
  },
  {
   "cell_type": "code",
   "execution_count": 9,
   "id": "02efa0a8",
   "metadata": {},
   "outputs": [
    {
     "data": {
      "text/html": [
       "<table>\n",
       "<thead><tr><th></th><th scope=col>Speed</th><th scope=col>Car_Age</th><th scope=col>Experience</th><th scope=col>Risk</th></tr></thead>\n",
       "<tbody>\n",
       "\t<tr><th scope=row>3</th><td>165</td><td>12 </td><td>4  </td><td>93 </td></tr>\n",
       "</tbody>\n",
       "</table>\n"
      ],
      "text/latex": [
       "\\begin{tabular}{r|llll}\n",
       "  & Speed & Car\\_Age & Experience & Risk\\\\\n",
       "\\hline\n",
       "\t3 & 165 & 12  & 4   & 93 \\\\\n",
       "\\end{tabular}\n"
      ],
      "text/markdown": [
       "\n",
       "| <!--/--> | Speed | Car_Age | Experience | Risk |\n",
       "|---|---|---|---|---|\n",
       "| 3 | 165 | 12  | 4   | 93  |\n",
       "\n"
      ],
      "text/plain": [
       "  Speed Car_Age Experience Risk\n",
       "3 165   12      4          93  "
      ]
     },
     "metadata": {},
     "output_type": "display_data"
    }
   ],
   "source": [
    "subset(df,Risk==93)"
   ]
  },
  {
   "cell_type": "code",
   "execution_count": 11,
   "id": "f6c24924",
   "metadata": {},
   "outputs": [
    {
     "data": {
      "text/html": [
       "<table>\n",
       "<thead><tr><th></th><th scope=col>Speed</th><th scope=col>Car_Age</th><th scope=col>Experience</th><th scope=col>Risk</th></tr></thead>\n",
       "<tbody>\n",
       "\t<tr><th scope=row>2</th><td> 90</td><td>17 </td><td>13 </td><td>20 </td></tr>\n",
       "\t<tr><th scope=row>4</th><td>110</td><td>20 </td><td>NA </td><td>60 </td></tr>\n",
       "</tbody>\n",
       "</table>\n"
      ],
      "text/latex": [
       "\\begin{tabular}{r|llll}\n",
       "  & Speed & Car\\_Age & Experience & Risk\\\\\n",
       "\\hline\n",
       "\t2 &  90 & 17  & 13  & 20 \\\\\n",
       "\t4 & 110 & 20  & NA  & 60 \\\\\n",
       "\\end{tabular}\n"
      ],
      "text/markdown": [
       "\n",
       "| <!--/--> | Speed | Car_Age | Experience | Risk |\n",
       "|---|---|---|---|---|\n",
       "| 2 |  90 | 17  | 13  | 20  |\n",
       "| 4 | 110 | 20  | NA  | 60  |\n",
       "\n"
      ],
      "text/plain": [
       "  Speed Car_Age Experience Risk\n",
       "2  90   17      13         20  \n",
       "4 110   20      NA         60  "
      ]
     },
     "metadata": {},
     "output_type": "display_data"
    }
   ],
   "source": [
    "subset(df,Car_Age>15)"
   ]
  },
  {
   "cell_type": "code",
   "execution_count": 12,
   "id": "5b28e5ef",
   "metadata": {},
   "outputs": [
    {
     "data": {
      "text/html": [
       "<table>\n",
       "<thead><tr><th></th><th scope=col>Speed</th><th scope=col>Car_Age</th><th scope=col>Experience</th><th scope=col>Risk</th></tr></thead>\n",
       "<tbody>\n",
       "\t<tr><th scope=row>2</th><td>90</td><td>17</td><td>13</td><td>20</td></tr>\n",
       "</tbody>\n",
       "</table>\n"
      ],
      "text/latex": [
       "\\begin{tabular}{r|llll}\n",
       "  & Speed & Car\\_Age & Experience & Risk\\\\\n",
       "\\hline\n",
       "\t2 & 90 & 17 & 13 & 20\\\\\n",
       "\\end{tabular}\n"
      ],
      "text/markdown": [
       "\n",
       "| <!--/--> | Speed | Car_Age | Experience | Risk |\n",
       "|---|---|---|---|---|\n",
       "| 2 | 90 | 17 | 13 | 20 |\n",
       "\n"
      ],
      "text/plain": [
       "  Speed Car_Age Experience Risk\n",
       "2 90    17      13         20  "
      ]
     },
     "metadata": {},
     "output_type": "display_data"
    }
   ],
   "source": [
    "subset(df,Risk<50 & Car_Age>15)"
   ]
  },
  {
   "cell_type": "code",
   "execution_count": null,
   "id": "34cb3446",
   "metadata": {},
   "outputs": [],
   "source": []
  }
 ],
 "metadata": {
  "kernelspec": {
   "display_name": "R",
   "language": "R",
   "name": "ir"
  },
  "language_info": {
   "codemirror_mode": "r",
   "file_extension": ".r",
   "mimetype": "text/x-r-source",
   "name": "R",
   "pygments_lexer": "r",
   "version": "3.6.1"
  }
 },
 "nbformat": 4,
 "nbformat_minor": 5
}
